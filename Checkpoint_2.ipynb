{
  "nbformat": 4,
  "nbformat_minor": 0,
  "metadata": {
    "colab": {
      "name": "Checkpoint 2.ipynb",
      "provenance": [],
      "collapsed_sections": []
    },
    "kernelspec": {
      "name": "python3",
      "display_name": "Python 3"
    },
    "language_info": {
      "name": "python"
    }
  },
  "cells": [
    {
      "cell_type": "markdown",
      "metadata": {
        "id": "3U0LpNca59hT"
      },
      "source": [
        "Question 1 :"
      ]
    },
    {
      "cell_type": "code",
      "metadata": {
        "colab": {
          "base_uri": "https://localhost:8080/"
        },
        "id": "g-z3quP5OXMT",
        "outputId": "c7faf004-ebdc-4d7c-b61e-1e0c3579d4b1"
      },
      "source": [
        "l1=list()\n",
        "for x in range(2001,3201):\n",
        "  if x%7==0 and x%5!=0 :\n",
        "    l1.append(x)\n",
        "    x+=x\n",
        "print(l1)\n",
        "\n"
      ],
      "execution_count": 79,
      "outputs": [
        {
          "output_type": "stream",
          "text": [
            "[2002, 2009, 2016, 2023, 2037, 2044, 2051, 2058, 2072, 2079, 2086, 2093, 2107, 2114, 2121, 2128, 2142, 2149, 2156, 2163, 2177, 2184, 2191, 2198, 2212, 2219, 2226, 2233, 2247, 2254, 2261, 2268, 2282, 2289, 2296, 2303, 2317, 2324, 2331, 2338, 2352, 2359, 2366, 2373, 2387, 2394, 2401, 2408, 2422, 2429, 2436, 2443, 2457, 2464, 2471, 2478, 2492, 2499, 2506, 2513, 2527, 2534, 2541, 2548, 2562, 2569, 2576, 2583, 2597, 2604, 2611, 2618, 2632, 2639, 2646, 2653, 2667, 2674, 2681, 2688, 2702, 2709, 2716, 2723, 2737, 2744, 2751, 2758, 2772, 2779, 2786, 2793, 2807, 2814, 2821, 2828, 2842, 2849, 2856, 2863, 2877, 2884, 2891, 2898, 2912, 2919, 2926, 2933, 2947, 2954, 2961, 2968, 2982, 2989, 2996, 3003, 3017, 3024, 3031, 3038, 3052, 3059, 3066, 3073, 3087, 3094, 3101, 3108, 3122, 3129, 3136, 3143, 3157, 3164, 3171, 3178, 3192, 3199]\n"
          ],
          "name": "stdout"
        }
      ]
    },
    {
      "cell_type": "markdown",
      "metadata": {
        "id": "LjDkUqZ96Fe7"
      },
      "source": [
        "Question 2 :"
      ]
    },
    {
      "cell_type": "code",
      "metadata": {
        "id": "uGiVl6tlaPvu"
      },
      "source": [
        "def factorial() :\n",
        "  x = int(input(\"Choisissez un nombre x :\"))\n",
        "  fact = 1\n",
        "  if x >= 1:\n",
        "    for i in range (1,x+1):\n",
        "     fact = fact * i\n",
        "  return fact"
      ],
      "execution_count": null,
      "outputs": []
    },
    {
      "cell_type": "code",
      "metadata": {
        "colab": {
          "base_uri": "https://localhost:8080/"
        },
        "id": "Syy6ZlJvWC_6",
        "outputId": "7502dafc-2a1e-4ece-ff1b-5a210414231e"
      },
      "source": [
        "factorial()"
      ],
      "execution_count": null,
      "outputs": [
        {
          "output_type": "stream",
          "text": [
            "Choisissez un nombre x :5\n"
          ],
          "name": "stdout"
        },
        {
          "output_type": "execute_result",
          "data": {
            "text/plain": [
              "120"
            ]
          },
          "metadata": {
            "tags": []
          },
          "execution_count": 32
        }
      ]
    },
    {
      "cell_type": "markdown",
      "metadata": {
        "id": "1QnEEkoncqUj"
      },
      "source": [
        "Question 3 :"
      ]
    },
    {
      "cell_type": "code",
      "metadata": {
        "colab": {
          "base_uri": "https://localhost:8080/"
        },
        "id": "P38Uz53pWEWb",
        "outputId": "daf161fb-31b8-44d1-81bf-012d0899c4ff"
      },
      "source": [
        "dict1={}\n",
        "x=int(input(\"Choisissez un nombre x :\"))\n",
        "for i in range (1,x+1):\n",
        "  dict1[i]=i*i\n",
        "print(dict1)\n"
      ],
      "execution_count": null,
      "outputs": [
        {
          "output_type": "stream",
          "text": [
            "Choisissez un nombre x :8\n",
            "{1: 1, 2: 4, 3: 9, 4: 16, 5: 25, 6: 36, 7: 49, 8: 64}\n"
          ],
          "name": "stdout"
        }
      ]
    },
    {
      "cell_type": "markdown",
      "metadata": {
        "id": "2efKkZzxg_Jo"
      },
      "source": [
        "Question 4 :"
      ]
    },
    {
      "cell_type": "code",
      "metadata": {
        "id": "XjSGz7fohBOQ"
      },
      "source": [
        "def missing_char():\n",
        "  word=str(input(\"Choisissez un mot :\"))\n",
        "  index=int(input(\"Choisissez un entier positif compris entre 0 et\"+ str(len(word)-1)))\n",
        "  word=word.replace(word[index],\"\",1)\n",
        "  return word"
      ],
      "execution_count": 29,
      "outputs": []
    },
    {
      "cell_type": "code",
      "metadata": {
        "id": "UH7bSBfnneBf"
      },
      "source": [
        "missing_char()"
      ],
      "execution_count": null,
      "outputs": []
    },
    {
      "cell_type": "markdown",
      "metadata": {
        "id": "Ab7zv4x8sLx1"
      },
      "source": [
        "Question 5 :"
      ]
    },
    {
      "cell_type": "code",
      "metadata": {
        "colab": {
          "base_uri": "https://localhost:8080/"
        },
        "id": "-j6QTYownf8a",
        "outputId": "a86f3f6b-d4ed-4841-ab39-2243ff9d3761"
      },
      "source": [
        "import numpy as np\n",
        "new_array=np.array([[0,1],[2,3],[4,5]])\n",
        "list1=new_array.tolist()\n",
        "print(\"Original array element :\",'\\n', new_array)\n",
        "print(\"Array to list :\",list1)"
      ],
      "execution_count": null,
      "outputs": [
        {
          "output_type": "stream",
          "text": [
            "Original array element : \n",
            " [[0 1]\n",
            " [2 3]\n",
            " [4 5]]\n",
            "Array to list : [[0, 1], [2, 3], [4, 5]]\n"
          ],
          "name": "stdout"
        }
      ]
    },
    {
      "cell_type": "markdown",
      "metadata": {
        "id": "fr6BAKQ0xyBg"
      },
      "source": [
        "Question 6 :"
      ]
    },
    {
      "cell_type": "code",
      "metadata": {
        "id": "64tTcyWutp3E",
        "colab": {
          "base_uri": "https://localhost:8080/"
        },
        "outputId": "20e2c981-c40e-4bbb-c5cf-d956fe01ef03"
      },
      "source": [
        "import numpy as np\n",
        "array1=np.array([0,1,2])\n",
        "array2=np.array([2,1,0])\n",
        "array3=np.cov(array1,array2)\n",
        "print(array3)"
      ],
      "execution_count": null,
      "outputs": [
        {
          "output_type": "stream",
          "text": [
            "[[ 1. -1.]\n",
            " [-1.  1.]]\n"
          ],
          "name": "stdout"
        }
      ]
    },
    {
      "cell_type": "markdown",
      "metadata": {
        "id": "Y9EB2gCc3Zxg"
      },
      "source": [
        "Question 7 :"
      ]
    },
    {
      "cell_type": "code",
      "metadata": {
        "id": "V4MqT_Wq3cP8"
      },
      "source": [
        "from math import sqrt\n",
        "C=50\n",
        "H=30\n",
        "D=str(input(\"Choisissez 3 nombres, séparés par une virgule\"))\n",
        "x=D.split(\",\")\n",
        "list1=[]\n",
        "for i in x:\n",
        "  i=int(i)\n",
        "  Q=round(sqrt((2*C*i)/H))\n",
        "  list1.append(Q)\n",
        "print(list1)"
      ],
      "execution_count": null,
      "outputs": []
    }
  ]
}